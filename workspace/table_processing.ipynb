{
 "cells": [
  {
   "cell_type": "code",
   "execution_count": 1,
   "metadata": {
    "collapsed": true
   },
   "outputs": [],
   "source": [
    "import numpy as np\n",
    "import pandas as pd\n",
    "\n",
    "from src.util import Const"
   ]
  },
  {
   "cell_type": "markdown",
   "metadata": {
    "pycharm": {
     "name": "#%% md\n"
    }
   },
   "source": [
    "## Load DB data"
   ]
  },
  {
   "cell_type": "code",
   "execution_count": 2,
   "metadata": {
    "pycharm": {
     "name": "#%%\n"
    }
   },
   "outputs": [
    {
     "data": {
      "text/html": [
       "<div>\n",
       "<style scoped>\n",
       "    .dataframe tbody tr th:only-of-type {\n",
       "        vertical-align: middle;\n",
       "    }\n",
       "\n",
       "    .dataframe tbody tr th {\n",
       "        vertical-align: top;\n",
       "    }\n",
       "\n",
       "    .dataframe thead th {\n",
       "        text-align: right;\n",
       "    }\n",
       "</style>\n",
       "<table border=\"1\" class=\"dataframe\">\n",
       "  <thead>\n",
       "    <tr style=\"text-align: right;\">\n",
       "      <th></th>\n",
       "      <th>Organic Matter concentration</th>\n",
       "    </tr>\n",
       "    <tr>\n",
       "      <th>Component ID</th>\n",
       "      <th></th>\n",
       "    </tr>\n",
       "  </thead>\n",
       "  <tbody>\n",
       "    <tr>\n",
       "      <th>14175226</th>\n",
       "      <td>0.0300</td>\n",
       "    </tr>\n",
       "    <tr>\n",
       "      <th>14175226</th>\n",
       "      <td>NaN</td>\n",
       "    </tr>\n",
       "    <tr>\n",
       "      <th>14175226</th>\n",
       "      <td>NaN</td>\n",
       "    </tr>\n",
       "    <tr>\n",
       "      <th>14175227</th>\n",
       "      <td>0.0125</td>\n",
       "    </tr>\n",
       "    <tr>\n",
       "      <th>14175227</th>\n",
       "      <td>NaN</td>\n",
       "    </tr>\n",
       "    <tr>\n",
       "      <th>...</th>\n",
       "      <td>...</td>\n",
       "    </tr>\n",
       "    <tr>\n",
       "      <th>14263675</th>\n",
       "      <td>0.0025</td>\n",
       "    </tr>\n",
       "    <tr>\n",
       "      <th>14263675</th>\n",
       "      <td>NaN</td>\n",
       "    </tr>\n",
       "    <tr>\n",
       "      <th>14263676</th>\n",
       "      <td>0.0025</td>\n",
       "    </tr>\n",
       "    <tr>\n",
       "      <th>14263676</th>\n",
       "      <td>0.0025</td>\n",
       "    </tr>\n",
       "    <tr>\n",
       "      <th>14263676</th>\n",
       "      <td>0.0150</td>\n",
       "    </tr>\n",
       "  </tbody>\n",
       "</table>\n",
       "<p>9577 rows × 1 columns</p>\n",
       "</div>"
      ],
      "text/plain": [
       "              Organic Matter concentration\n",
       "Component ID                              \n",
       "14175226                            0.0300\n",
       "14175226                               NaN\n",
       "14175226                               NaN\n",
       "14175227                            0.0125\n",
       "14175227                               NaN\n",
       "...                                    ...\n",
       "14263675                            0.0025\n",
       "14263675                               NaN\n",
       "14263676                            0.0025\n",
       "14263676                            0.0025\n",
       "14263676                            0.0150\n",
       "\n",
       "[9577 rows x 1 columns]"
      ]
     },
     "execution_count": 2,
     "metadata": {},
     "output_type": "execute_result"
    }
   ],
   "source": [
    "horizon = pd.read_csv(\n",
    "    Const.HORIZON_DB_FILE_PATH,\n",
    "    usecols=['cokey', 'om_r'],\n",
    ")\n",
    "horizon.rename(\n",
    "    columns={\n",
    "        'cokey': Const.DB_COMP_ID,\n",
    "        'om_r': Const.DB_OM,\n",
    "    },\n",
    "    inplace=True,\n",
    ")\n",
    "\n",
    "horizon[Const.DB_COMP_ID] = horizon[Const.DB_COMP_ID].astype(np.uint32)\n",
    "horizon[Const.DB_OM] = horizon[Const.DB_OM].astype(np.float32)\n",
    "horizon[Const.DB_OM] = horizon[Const.DB_OM] / 100\n",
    "horizon.set_index(Const.DB_COMP_ID, inplace=True)\n",
    "horizon"
   ]
  },
  {
   "cell_type": "code",
   "execution_count": 3,
   "metadata": {
    "pycharm": {
     "name": "#%%\n"
    }
   },
   "outputs": [
    {
     "data": {
      "text/html": [
       "<div>\n",
       "<style scoped>\n",
       "    .dataframe tbody tr th:only-of-type {\n",
       "        vertical-align: middle;\n",
       "    }\n",
       "\n",
       "    .dataframe tbody tr th {\n",
       "        vertical-align: top;\n",
       "    }\n",
       "\n",
       "    .dataframe thead th {\n",
       "        text-align: right;\n",
       "    }\n",
       "</style>\n",
       "<table border=\"1\" class=\"dataframe\">\n",
       "  <thead>\n",
       "    <tr style=\"text-align: right;\">\n",
       "      <th></th>\n",
       "      <th>Map Unit ID</th>\n",
       "    </tr>\n",
       "    <tr>\n",
       "      <th>Component ID</th>\n",
       "      <th></th>\n",
       "    </tr>\n",
       "  </thead>\n",
       "  <tbody>\n",
       "    <tr>\n",
       "      <th>14175226</th>\n",
       "      <td>657753</td>\n",
       "    </tr>\n",
       "    <tr>\n",
       "      <th>14175227</th>\n",
       "      <td>657753</td>\n",
       "    </tr>\n",
       "    <tr>\n",
       "      <th>14175228</th>\n",
       "      <td>657753</td>\n",
       "    </tr>\n",
       "    <tr>\n",
       "      <th>14175229</th>\n",
       "      <td>657753</td>\n",
       "    </tr>\n",
       "    <tr>\n",
       "      <th>14175230</th>\n",
       "      <td>657753</td>\n",
       "    </tr>\n",
       "    <tr>\n",
       "      <th>...</th>\n",
       "      <td>...</td>\n",
       "    </tr>\n",
       "    <tr>\n",
       "      <th>14263672</th>\n",
       "      <td>675172</td>\n",
       "    </tr>\n",
       "    <tr>\n",
       "      <th>14263673</th>\n",
       "      <td>675172</td>\n",
       "    </tr>\n",
       "    <tr>\n",
       "      <th>14263674</th>\n",
       "      <td>675172</td>\n",
       "    </tr>\n",
       "    <tr>\n",
       "      <th>14263675</th>\n",
       "      <td>675172</td>\n",
       "    </tr>\n",
       "    <tr>\n",
       "      <th>14263676</th>\n",
       "      <td>675172</td>\n",
       "    </tr>\n",
       "  </tbody>\n",
       "</table>\n",
       "<p>2945 rows × 1 columns</p>\n",
       "</div>"
      ],
      "text/plain": [
       "              Map Unit ID\n",
       "Component ID             \n",
       "14175226           657753\n",
       "14175227           657753\n",
       "14175228           657753\n",
       "14175229           657753\n",
       "14175230           657753\n",
       "...                   ...\n",
       "14263672           675172\n",
       "14263673           675172\n",
       "14263674           675172\n",
       "14263675           675172\n",
       "14263676           675172\n",
       "\n",
       "[2945 rows x 1 columns]"
      ]
     },
     "execution_count": 3,
     "metadata": {},
     "output_type": "execute_result"
    }
   ],
   "source": [
    "component = pd.read_csv(\n",
    "    Const.COMPONENT_DB_FILE_PATH,\n",
    "    usecols=['cokey', 'mukey'],\n",
    ")\n",
    "component.rename(\n",
    "    columns={\n",
    "        'cokey': Const.DB_COMP_ID,\n",
    "        'mukey': Const.DB_MU_ID,\n",
    "    },\n",
    "    inplace=True,\n",
    ")\n",
    "\n",
    "component[Const.DB_COMP_ID] = component[Const.DB_COMP_ID].astype(np.uint32)\n",
    "component[Const.DB_MU_ID] = component[Const.DB_MU_ID].astype(np.uint32)\n",
    "component.set_index(Const.DB_COMP_ID, inplace=True)\n",
    "component"
   ]
  },
  {
   "cell_type": "markdown",
   "metadata": {
    "pycharm": {
     "name": "#%% md\n"
    }
   },
   "source": [
    "## Clean DB data"
   ]
  },
  {
   "cell_type": "code",
   "execution_count": 4,
   "metadata": {
    "pycharm": {
     "name": "#%%\n"
    }
   },
   "outputs": [
    {
     "name": "stdout",
     "output_type": "stream",
     "text": [
      "Initial Horizon size = 9577\n",
      "\tNaN values removed from Horizon = 4226\n",
      "\tInvalid organic matter percentage values removed from Horizon = 0\n",
      "\tEmpty values removed from Horizon = 0\n",
      "Final Horizon size = 5351\n"
     ]
    }
   ],
   "source": [
    "initial_size = len(horizon)\n",
    "print(f'Initial Horizon size = {initial_size}')\n",
    "\n",
    "horizon.dropna(inplace=True)\n",
    "nan_size = initial_size - len(horizon)\n",
    "print(f'\\tNaN values removed from Horizon = {nan_size}')\n",
    "\n",
    "horizon.replace('', np.nan, inplace=True)\n",
    "horizon.dropna(inplace=True)\n",
    "empty_size = initial_size - nan_size - len(horizon)\n",
    "print(f'\\tEmpty values removed from Horizon = {empty_size}')\n",
    "\n",
    "print(f'Final Horizon size = {len(horizon)}')"
   ]
  },
  {
   "cell_type": "code",
   "execution_count": 5,
   "metadata": {
    "pycharm": {
     "name": "#%%\n"
    }
   },
   "outputs": [
    {
     "data": {
      "text/html": [
       "<div>\n",
       "<style scoped>\n",
       "    .dataframe tbody tr th:only-of-type {\n",
       "        vertical-align: middle;\n",
       "    }\n",
       "\n",
       "    .dataframe tbody tr th {\n",
       "        vertical-align: top;\n",
       "    }\n",
       "\n",
       "    .dataframe thead th {\n",
       "        text-align: right;\n",
       "    }\n",
       "</style>\n",
       "<table border=\"1\" class=\"dataframe\">\n",
       "  <thead>\n",
       "    <tr style=\"text-align: right;\">\n",
       "      <th></th>\n",
       "      <th>Organic Matter concentration</th>\n",
       "    </tr>\n",
       "    <tr>\n",
       "      <th>Component ID</th>\n",
       "      <th></th>\n",
       "    </tr>\n",
       "  </thead>\n",
       "  <tbody>\n",
       "    <tr>\n",
       "      <th>14175226</th>\n",
       "      <td>0.0300</td>\n",
       "    </tr>\n",
       "    <tr>\n",
       "      <th>14175227</th>\n",
       "      <td>0.0125</td>\n",
       "    </tr>\n",
       "    <tr>\n",
       "      <th>14175228</th>\n",
       "      <td>0.0200</td>\n",
       "    </tr>\n",
       "    <tr>\n",
       "      <th>14175229</th>\n",
       "      <td>0.0125</td>\n",
       "    </tr>\n",
       "    <tr>\n",
       "      <th>14175229</th>\n",
       "      <td>0.0025</td>\n",
       "    </tr>\n",
       "    <tr>\n",
       "      <th>...</th>\n",
       "      <td>...</td>\n",
       "    </tr>\n",
       "    <tr>\n",
       "      <th>14263675</th>\n",
       "      <td>0.0150</td>\n",
       "    </tr>\n",
       "    <tr>\n",
       "      <th>14263675</th>\n",
       "      <td>0.0025</td>\n",
       "    </tr>\n",
       "    <tr>\n",
       "      <th>14263676</th>\n",
       "      <td>0.0025</td>\n",
       "    </tr>\n",
       "    <tr>\n",
       "      <th>14263676</th>\n",
       "      <td>0.0025</td>\n",
       "    </tr>\n",
       "    <tr>\n",
       "      <th>14263676</th>\n",
       "      <td>0.0150</td>\n",
       "    </tr>\n",
       "  </tbody>\n",
       "</table>\n",
       "<p>5351 rows × 1 columns</p>\n",
       "</div>"
      ],
      "text/plain": [
       "              Organic Matter concentration\n",
       "Component ID                              \n",
       "14175226                            0.0300\n",
       "14175227                            0.0125\n",
       "14175228                            0.0200\n",
       "14175229                            0.0125\n",
       "14175229                            0.0025\n",
       "...                                    ...\n",
       "14263675                            0.0150\n",
       "14263675                            0.0025\n",
       "14263676                            0.0025\n",
       "14263676                            0.0025\n",
       "14263676                            0.0150\n",
       "\n",
       "[5351 rows x 1 columns]"
      ]
     },
     "execution_count": 5,
     "metadata": {},
     "output_type": "execute_result"
    }
   ],
   "source": [
    "horizon"
   ]
  },
  {
   "cell_type": "code",
   "execution_count": 6,
   "metadata": {
    "pycharm": {
     "name": "#%%\n"
    }
   },
   "outputs": [
    {
     "name": "stdout",
     "output_type": "stream",
     "text": [
      "Initial Component size = 2945\n",
      "\tNaN values removed from Component = 0\n",
      "\tEmpty values removed from Component = 0\n",
      "Final Component size = 2945\n"
     ]
    }
   ],
   "source": [
    "initial_size = len(component)\n",
    "print(f'Initial Component size = {initial_size}')\n",
    "\n",
    "component.dropna(inplace=True)\n",
    "nan_size = initial_size - len(component)\n",
    "print(f'\\tNaN values removed from Component = {nan_size}')\n",
    "\n",
    "component.replace('', np.nan, inplace=True)\n",
    "component.dropna(inplace=True)\n",
    "empty_size = initial_size - nan_size - len(component)\n",
    "print(f'\\tEmpty values removed from Component = {empty_size}')\n",
    "\n",
    "print(f'Final Component size = {len(component)}')\n",
    "\n",
    "del nan_size, empty_size"
   ]
  },
  {
   "cell_type": "code",
   "execution_count": 7,
   "metadata": {
    "pycharm": {
     "name": "#%%\n"
    }
   },
   "outputs": [
    {
     "data": {
      "text/html": [
       "<div>\n",
       "<style scoped>\n",
       "    .dataframe tbody tr th:only-of-type {\n",
       "        vertical-align: middle;\n",
       "    }\n",
       "\n",
       "    .dataframe tbody tr th {\n",
       "        vertical-align: top;\n",
       "    }\n",
       "\n",
       "    .dataframe thead th {\n",
       "        text-align: right;\n",
       "    }\n",
       "</style>\n",
       "<table border=\"1\" class=\"dataframe\">\n",
       "  <thead>\n",
       "    <tr style=\"text-align: right;\">\n",
       "      <th></th>\n",
       "      <th>Map Unit ID</th>\n",
       "    </tr>\n",
       "    <tr>\n",
       "      <th>Component ID</th>\n",
       "      <th></th>\n",
       "    </tr>\n",
       "  </thead>\n",
       "  <tbody>\n",
       "    <tr>\n",
       "      <th>14175226</th>\n",
       "      <td>657753</td>\n",
       "    </tr>\n",
       "    <tr>\n",
       "      <th>14175227</th>\n",
       "      <td>657753</td>\n",
       "    </tr>\n",
       "    <tr>\n",
       "      <th>14175228</th>\n",
       "      <td>657753</td>\n",
       "    </tr>\n",
       "    <tr>\n",
       "      <th>14175229</th>\n",
       "      <td>657753</td>\n",
       "    </tr>\n",
       "    <tr>\n",
       "      <th>14175230</th>\n",
       "      <td>657753</td>\n",
       "    </tr>\n",
       "    <tr>\n",
       "      <th>...</th>\n",
       "      <td>...</td>\n",
       "    </tr>\n",
       "    <tr>\n",
       "      <th>14263672</th>\n",
       "      <td>675172</td>\n",
       "    </tr>\n",
       "    <tr>\n",
       "      <th>14263673</th>\n",
       "      <td>675172</td>\n",
       "    </tr>\n",
       "    <tr>\n",
       "      <th>14263674</th>\n",
       "      <td>675172</td>\n",
       "    </tr>\n",
       "    <tr>\n",
       "      <th>14263675</th>\n",
       "      <td>675172</td>\n",
       "    </tr>\n",
       "    <tr>\n",
       "      <th>14263676</th>\n",
       "      <td>675172</td>\n",
       "    </tr>\n",
       "  </tbody>\n",
       "</table>\n",
       "<p>2945 rows × 1 columns</p>\n",
       "</div>"
      ],
      "text/plain": [
       "              Map Unit ID\n",
       "Component ID             \n",
       "14175226           657753\n",
       "14175227           657753\n",
       "14175228           657753\n",
       "14175229           657753\n",
       "14175230           657753\n",
       "...                   ...\n",
       "14263672           675172\n",
       "14263673           675172\n",
       "14263674           675172\n",
       "14263675           675172\n",
       "14263676           675172\n",
       "\n",
       "[2945 rows x 1 columns]"
      ]
     },
     "execution_count": 7,
     "metadata": {},
     "output_type": "execute_result"
    }
   ],
   "source": [
    "component"
   ]
  },
  {
   "cell_type": "markdown",
   "metadata": {
    "pycharm": {
     "name": "#%% md\n"
    }
   },
   "source": [
    "## Intersect tables"
   ]
  },
  {
   "cell_type": "code",
   "execution_count": 8,
   "metadata": {
    "pycharm": {
     "name": "#%%\n"
    }
   },
   "outputs": [],
   "source": [
    "data = component.join(\n",
    "    horizon,\n",
    "    how='inner',\n",
    ").copy()\n",
    "\n",
    "del horizon, component"
   ]
  },
  {
   "cell_type": "code",
   "execution_count": 9,
   "metadata": {
    "pycharm": {
     "name": "#%%\n"
    }
   },
   "outputs": [
    {
     "data": {
      "text/html": [
       "<div>\n",
       "<style scoped>\n",
       "    .dataframe tbody tr th:only-of-type {\n",
       "        vertical-align: middle;\n",
       "    }\n",
       "\n",
       "    .dataframe tbody tr th {\n",
       "        vertical-align: top;\n",
       "    }\n",
       "\n",
       "    .dataframe thead th {\n",
       "        text-align: right;\n",
       "    }\n",
       "</style>\n",
       "<table border=\"1\" class=\"dataframe\">\n",
       "  <thead>\n",
       "    <tr style=\"text-align: right;\">\n",
       "      <th></th>\n",
       "      <th>Map Unit ID</th>\n",
       "      <th>Organic Matter concentration</th>\n",
       "    </tr>\n",
       "    <tr>\n",
       "      <th>Component ID</th>\n",
       "      <th></th>\n",
       "      <th></th>\n",
       "    </tr>\n",
       "  </thead>\n",
       "  <tbody>\n",
       "    <tr>\n",
       "      <th>14175226</th>\n",
       "      <td>657753</td>\n",
       "      <td>0.0300</td>\n",
       "    </tr>\n",
       "    <tr>\n",
       "      <th>14175227</th>\n",
       "      <td>657753</td>\n",
       "      <td>0.0125</td>\n",
       "    </tr>\n",
       "    <tr>\n",
       "      <th>14175228</th>\n",
       "      <td>657753</td>\n",
       "      <td>0.0200</td>\n",
       "    </tr>\n",
       "    <tr>\n",
       "      <th>14175229</th>\n",
       "      <td>657753</td>\n",
       "      <td>0.0125</td>\n",
       "    </tr>\n",
       "    <tr>\n",
       "      <th>14175229</th>\n",
       "      <td>657753</td>\n",
       "      <td>0.0025</td>\n",
       "    </tr>\n",
       "    <tr>\n",
       "      <th>...</th>\n",
       "      <td>...</td>\n",
       "      <td>...</td>\n",
       "    </tr>\n",
       "    <tr>\n",
       "      <th>14263675</th>\n",
       "      <td>675172</td>\n",
       "      <td>0.0150</td>\n",
       "    </tr>\n",
       "    <tr>\n",
       "      <th>14263675</th>\n",
       "      <td>675172</td>\n",
       "      <td>0.0025</td>\n",
       "    </tr>\n",
       "    <tr>\n",
       "      <th>14263676</th>\n",
       "      <td>675172</td>\n",
       "      <td>0.0025</td>\n",
       "    </tr>\n",
       "    <tr>\n",
       "      <th>14263676</th>\n",
       "      <td>675172</td>\n",
       "      <td>0.0025</td>\n",
       "    </tr>\n",
       "    <tr>\n",
       "      <th>14263676</th>\n",
       "      <td>675172</td>\n",
       "      <td>0.0150</td>\n",
       "    </tr>\n",
       "  </tbody>\n",
       "</table>\n",
       "<p>5351 rows × 2 columns</p>\n",
       "</div>"
      ],
      "text/plain": [
       "              Map Unit ID  Organic Matter concentration\n",
       "Component ID                                           \n",
       "14175226           657753                        0.0300\n",
       "14175227           657753                        0.0125\n",
       "14175228           657753                        0.0200\n",
       "14175229           657753                        0.0125\n",
       "14175229           657753                        0.0025\n",
       "...                   ...                           ...\n",
       "14263675           675172                        0.0150\n",
       "14263675           675172                        0.0025\n",
       "14263676           675172                        0.0025\n",
       "14263676           675172                        0.0025\n",
       "14263676           675172                        0.0150\n",
       "\n",
       "[5351 rows x 2 columns]"
      ]
     },
     "execution_count": 9,
     "metadata": {},
     "output_type": "execute_result"
    }
   ],
   "source": [
    "data"
   ]
  },
  {
   "cell_type": "markdown",
   "metadata": {},
   "source": [
    "### Keep duplicated `MapUnit`/`Component` with highest `OrganicMatter` value"
   ]
  },
  {
   "cell_type": "code",
   "execution_count": 10,
   "metadata": {
    "pycharm": {
     "name": "#%%\n"
    }
   },
   "outputs": [
    {
     "name": "stdout",
     "output_type": "stream",
     "text": [
      "Unnecessary Organic matter values removed = 5096\n"
     ]
    }
   ],
   "source": [
    "initial_size = len(data)\n",
    "\n",
    "data.sort_values(\n",
    "    by=[Const.DB_MU_ID, Const.DB_OM],\n",
    "    ascending=False,\n",
    "    inplace=True,\n",
    ")\n",
    "data.drop_duplicates(subset=[Const.DB_MU_ID], keep='first', inplace=True)\n",
    "\n",
    "print(f'Unnecessary Organic matter values removed = {initial_size - len(data)}')\n",
    "\n",
    "data.reset_index(drop=True, inplace=True)\n",
    "del initial_size"
   ]
  },
  {
   "cell_type": "code",
   "execution_count": 11,
   "metadata": {
    "pycharm": {
     "name": "#%%\n"
    }
   },
   "outputs": [
    {
     "data": {
      "text/html": [
       "<div>\n",
       "<style scoped>\n",
       "    .dataframe tbody tr th:only-of-type {\n",
       "        vertical-align: middle;\n",
       "    }\n",
       "\n",
       "    .dataframe tbody tr th {\n",
       "        vertical-align: top;\n",
       "    }\n",
       "\n",
       "    .dataframe thead th {\n",
       "        text-align: right;\n",
       "    }\n",
       "</style>\n",
       "<table border=\"1\" class=\"dataframe\">\n",
       "  <thead>\n",
       "    <tr style=\"text-align: right;\">\n",
       "      <th></th>\n",
       "      <th>Map Unit ID</th>\n",
       "      <th>Organic Matter concentration</th>\n",
       "    </tr>\n",
       "  </thead>\n",
       "  <tbody>\n",
       "    <tr>\n",
       "      <th>0</th>\n",
       "      <td>675172</td>\n",
       "      <td>0.045</td>\n",
       "    </tr>\n",
       "    <tr>\n",
       "      <th>1</th>\n",
       "      <td>675154</td>\n",
       "      <td>0.030</td>\n",
       "    </tr>\n",
       "    <tr>\n",
       "      <th>2</th>\n",
       "      <td>675138</td>\n",
       "      <td>0.030</td>\n",
       "    </tr>\n",
       "    <tr>\n",
       "      <th>3</th>\n",
       "      <td>669773</td>\n",
       "      <td>0.500</td>\n",
       "    </tr>\n",
       "    <tr>\n",
       "      <th>4</th>\n",
       "      <td>669761</td>\n",
       "      <td>0.150</td>\n",
       "    </tr>\n",
       "    <tr>\n",
       "      <th>...</th>\n",
       "      <td>...</td>\n",
       "      <td>...</td>\n",
       "    </tr>\n",
       "    <tr>\n",
       "      <th>250</th>\n",
       "      <td>657757</td>\n",
       "      <td>0.015</td>\n",
       "    </tr>\n",
       "    <tr>\n",
       "      <th>251</th>\n",
       "      <td>657756</td>\n",
       "      <td>0.020</td>\n",
       "    </tr>\n",
       "    <tr>\n",
       "      <th>252</th>\n",
       "      <td>657755</td>\n",
       "      <td>0.020</td>\n",
       "    </tr>\n",
       "    <tr>\n",
       "      <th>253</th>\n",
       "      <td>657754</td>\n",
       "      <td>0.030</td>\n",
       "    </tr>\n",
       "    <tr>\n",
       "      <th>254</th>\n",
       "      <td>657753</td>\n",
       "      <td>0.035</td>\n",
       "    </tr>\n",
       "  </tbody>\n",
       "</table>\n",
       "<p>255 rows × 2 columns</p>\n",
       "</div>"
      ],
      "text/plain": [
       "     Map Unit ID  Organic Matter concentration\n",
       "0         675172                         0.045\n",
       "1         675154                         0.030\n",
       "2         675138                         0.030\n",
       "3         669773                         0.500\n",
       "4         669761                         0.150\n",
       "..           ...                           ...\n",
       "250       657757                         0.015\n",
       "251       657756                         0.020\n",
       "252       657755                         0.020\n",
       "253       657754                         0.030\n",
       "254       657753                         0.035\n",
       "\n",
       "[255 rows x 2 columns]"
      ]
     },
     "execution_count": 11,
     "metadata": {},
     "output_type": "execute_result"
    }
   ],
   "source": [
    "data"
   ]
  }
 ],
 "metadata": {
  "kernelspec": {
   "display_name": "Python 3",
   "language": "python",
   "name": "python3"
  },
  "language_info": {
   "codemirror_mode": {
    "name": "ipython",
    "version": 3
   },
   "file_extension": ".py",
   "mimetype": "text/x-python",
   "name": "python",
   "nbconvert_exporter": "python",
   "pygments_lexer": "ipython3",
   "version": "3.8.3"
  }
 },
 "nbformat": 4,
 "nbformat_minor": 1
}