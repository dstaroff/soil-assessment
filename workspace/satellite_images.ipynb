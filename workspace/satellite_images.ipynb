{
 "cells": [
  {
   "cell_type": "code",
   "execution_count": 4,
   "metadata": {
    "collapsed": true
   },
   "outputs": [],
   "source": [
    "import os\n",
    "import requests\n",
    "from src.dataset import load_shapes_and_records, max_inner_rect, get_soil_data\n",
    "from src.util import Const\n",
    "from tqdm.notebook import tnrange"
   ]
  },
  {
   "cell_type": "code",
   "execution_count": 5,
   "outputs": [],
   "source": [
    "shapes, records = load_shapes_and_records()\n",
    "soil = get_soil_data()"
   ],
   "metadata": {
    "collapsed": false,
    "pycharm": {
     "name": "#%%\n"
    }
   }
  },
  {
   "cell_type": "code",
   "execution_count": 6,
   "outputs": [
    {
     "data": {
      "text/plain": "  0%|          | 0/1482 [00:00<?, ?it/s]",
      "application/vnd.jupyter.widget-view+json": {
       "version_major": 2,
       "version_minor": 0,
       "model_id": "09c2ebe74cf34fcfa732d3bea31b1d92"
      }
     },
     "metadata": {},
     "output_type": "display_data"
    }
   ],
   "source": [
    "labels = []\n",
    "for i in tnrange(len(records)):\n",
    "    if int(records[i].MUKEY) not in soil[Const.DB_MU_ID].values:\n",
    "        continue\n",
    "\n",
    "    humus_concentration = soil[soil[Const.DB_MU_ID] == int(records[i].MUKEY)][Const.DB_OM].values[0]\n",
    "\n",
    "    bbox = max_inner_rect(shapes[i]).exterior.coords\n",
    "    llx = bbox[0][0]\n",
    "    lly = bbox[0][1]\n",
    "    urx = bbox[2][0]\n",
    "    ury = bbox[2][1]\n",
    "\n",
    "    image_url = f'https://static-maps.yandex.ru/1.x/?l=sat&bbox={llx}%2C{lly}~{urx}%2C{ury}'\n",
    "    response = requests.get(image_url)\n",
    "    if response.status_code == requests.codes.OK:\n",
    "        with open(os.path.join(Const.IMAGES_PATH, f'{i}.jpg'), 'wb') as image_file:\n",
    "            image_file.write(response.content)\n",
    "\n",
    "        labels.append(f'{i}.jpg:{humus_concentration}')"
   ],
   "metadata": {
    "collapsed": false,
    "pycharm": {
     "name": "#%%\n"
    }
   }
  },
  {
   "cell_type": "code",
   "execution_count": 8,
   "outputs": [],
   "source": [
    "if len(labels) > 0:\n",
    "    with open(Const.LABELS_FILE_PATH, 'w') as labels_file:\n",
    "        for label in labels:\n",
    "            labels_file.write(f'{label}\\n')"
   ],
   "metadata": {
    "collapsed": false,
    "pycharm": {
     "name": "#%%\n"
    }
   }
  }
 ],
 "metadata": {
  "kernelspec": {
   "display_name": "Python 3",
   "language": "python",
   "name": "python3"
  },
  "language_info": {
   "codemirror_mode": {
    "name": "ipython",
    "version": 2
   },
   "file_extension": ".py",
   "mimetype": "text/x-python",
   "name": "python",
   "nbconvert_exporter": "python",
   "pygments_lexer": "ipython2",
   "version": "2.7.6"
  }
 },
 "nbformat": 4,
 "nbformat_minor": 0
}